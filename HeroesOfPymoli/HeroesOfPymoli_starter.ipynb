{
 "cells": [
  {
   "cell_type": "markdown",
   "metadata": {},
   "source": [
    "### Note\n",
    "* Instructions have been included for each segment. You do not have to follow them exactly, but they are included to help you think through the steps."
   ]
  },
  {
   "cell_type": "code",
   "execution_count": null,
   "metadata": {},
   "outputs": [],
   "source": [
    "# Dependencies and Setup\n",
    "import pandas as pd\n",
    "# File to Load (Remember to Change These)\n",
    "file_to_load = \"Resources/purchase_data.csv\"\n",
    "# Read Purchasing File and store into Pandas data frame\n",
    "purchase_data = pd.read_csv(file_to_load)\n",
    "# preview data\n",
    "purchase_data.head()"
   ]
  },
  {
   "cell_type": "markdown",
   "metadata": {},
   "source": [
    "## Player Count"
   ]
  },
  {
   "cell_type": "markdown",
   "metadata": {},
   "source": [
    "* Display the total number of players\n"
   ]
  },
  {
   "cell_type": "code",
   "execution_count": null,
   "metadata": {},
   "outputs": [],
   "source": [
    "# count the number of unique players in the SN column\n",
    "tp_count = int(len(pd.unique(purchase_data[\"SN\"])))\n",
    "# create dataframe to hold data\n",
    "tp_df = pd.DataFrame({\"Total Players\": tp_count}, index=[0])\n",
    "tp_df"
   ]
  },
  {
   "cell_type": "markdown",
   "metadata": {},
   "source": [
    "## Purchasing Analysis (Total)"
   ]
  },
  {
   "cell_type": "markdown",
   "metadata": {},
   "source": [
    "* Run basic calculations to obtain number of unique items, average price, etc.\n",
    "\n",
    "\n",
    "* Create a summary data frame to hold the results\n",
    "\n",
    "\n",
    "* Optional: give the displayed data cleaner formatting\n",
    "\n",
    "\n",
    "* Display the summary data frame\n"
   ]
  },
  {
   "cell_type": "code",
   "execution_count": null,
   "metadata": {
    "scrolled": true
   },
   "outputs": [],
   "source": [
    "# get the average price of each purchase\n",
    "purchase_avg = float(purchase_data[\"Price\"].mean())\n",
    "# count the number of purchases\n",
    "total_purchases = int(len(purchase_data[\"SN\"]))\n",
    "# get the sum of all purchases\n",
    "total_revenue = float(purchase_data[\"Price\"].sum())\n",
    "# count the number of items available\n",
    "total_unique_items = int(len(pd.unique(purchase_data[\"Item Name\"])))\n",
    "# create data frame to hold data\n",
    "patotal_df = pd.DataFrame({\n",
    "            \"Number of Unique Items\": total_unique_items,\n",
    "            \"Average Price\": purchase_avg,\n",
    "            \"Number of Purchases\": total_purchases,\n",
    "            \"Total Revenue\": total_revenue\n",
    "            }, index=[0])\n",
    "#format the average price and total revenue columns for currency\n",
    "patotal_df[\"Average Price\"] = patotal_df[\"Average Price\"].map(\"${:,.2f}\".format)\n",
    "patotal_df[\"Total Revenue\"] = patotal_df[\"Total Revenue\"].map(\"${:,.2f}\".format)\n",
    "\n",
    "patotal_df"
   ]
  },
  {
   "cell_type": "markdown",
   "metadata": {},
   "source": [
    "## Gender Demographics"
   ]
  },
  {
   "cell_type": "markdown",
   "metadata": {},
   "source": [
    "* Percentage and Count of Male Players\n",
    "\n",
    "\n",
    "* Percentage and Count of Female Players\n",
    "\n",
    "\n",
    "* Percentage and Count of Other / Non-Disclosed\n",
    "\n",
    "\n"
   ]
  },
  {
   "cell_type": "code",
   "execution_count": null,
   "metadata": {},
   "outputs": [],
   "source": [
    "# drop the duplicate players for counting gender\n",
    "genders_df = purchase_data.drop_duplicates(subset=\"SN\", keep='first', inplace=False)\n",
    "# get the count of each gender\n",
    "gender_count = genders_df[\"Gender\"].value_counts()\n",
    "# total players divided by 100 used for percentage calculations\n",
    "tccalc = tp_count/100\n",
    "# create dataframe\n",
    "gc_df = pd.DataFrame({\n",
    "                    \"Total Count\": gender_count,\n",
    "                    \"Percentage of Players\": gender_count/tccalc\n",
    "                    })\n",
    "\n",
    "# format percentage of players\n",
    "gc_df[\"Percentage of Players\"] = gc_df[\"Percentage of Players\"].map(\"{:,.2f} %\".format)\n",
    "\n",
    "gc_df"
   ]
  },
  {
   "cell_type": "markdown",
   "metadata": {},
   "source": [
    "\n",
    "## Purchasing Analysis (Gender)"
   ]
  },
  {
   "cell_type": "markdown",
   "metadata": {},
   "source": [
    "* Run basic calculations to obtain purchase count, avg. purchase price, avg. purchase total per person etc. by gender\n",
    "\n",
    "\n",
    "\n",
    "\n",
    "* Create a summary data frame to hold the results\n",
    "\n",
    "\n",
    "* Optional: give the displayed data cleaner formatting\n",
    "\n",
    "\n",
    "* Display the summary data frame"
   ]
  },
  {
   "cell_type": "code",
   "execution_count": null,
   "metadata": {},
   "outputs": [],
   "source": [
    "# count the purchases made by each gender\n",
    "total_gender_count = purchase_data[\"Gender\"].value_counts()\n",
    "\n",
    "# variable to hold all of the rows for females\n",
    "female_avg = purchase_data.loc[purchase_data[\"Gender\"] == \"Female\"]\n",
    "# average purchase price for females\n",
    "female_purchase_avg = female_avg[\"Price\"].mean()\n",
    "# total of purchases made by females\n",
    "female_total = female_avg['Price'].sum()\n",
    "# dataframe to hold the SN and Price\n",
    "new_female_df = female_avg[[\"SN\", \"Price\"]]\n",
    "# group the duplicate SNs and add up their total purchase amount\n",
    "new_female_df = new_female_df.groupby(['SN']).sum()\n",
    "# get the average purchase price\n",
    "female_avg_pp = float(new_female_df.mean())\n",
    "\n",
    "# variable to hold all of the rows for males\n",
    "male_avg = purchase_data.loc[purchase_data[\"Gender\"] == \"Male\"]\n",
    "# average purchase price for males\n",
    "male_purchase_avg = male_avg[\"Price\"].mean()\n",
    "# total of purchases made by males\n",
    "male_total = male_avg['Price'].sum()\n",
    "# dataframe to hold the SN and Price\n",
    "new_male_df = male_avg[[\"SN\", \"Price\"]]\n",
    "# group the duplicate SNs and add up their total purchase amount\n",
    "new_male_df = new_male_df.groupby(['SN']).sum()\n",
    "# get the average purchase price\n",
    "male_avg_pp = float(new_male_df.mean())\n",
    "\n",
    "# variable to hold all of the rows for Other / Non-Disclosed\n",
    "other_avg = purchase_data.loc[purchase_data[\"Gender\"] == \"Other / Non-Disclosed\"]\n",
    "# average purchase price for Other / Non-Disclosed\n",
    "other_purchase_avg = other_avg[\"Price\"].mean()\n",
    "# total of purchases made by Other / Non-Disclosed\n",
    "other_total = other_avg['Price'].sum()\n",
    "# dataframe to hold the SN and Price\n",
    "new_other_df = other_avg[[\"SN\", \"Price\"]]\n",
    "# group the duplicate SNs and add up their total purchase amount\n",
    "new_other_df = new_other_df.groupby(['SN']).sum()\n",
    "# get the average purchase price\n",
    "other_avg_pp = float(new_other_df.mean())\n",
    "\n",
    "# dataframe to hold the data\n",
    "pag_df = pd.DataFrame({\n",
    "    \"Purchase Count\": total_gender_count,\n",
    "    \"Average Purchase Price\":[male_purchase_avg, female_purchase_avg, other_purchase_avg],\n",
    "    \"Total Purchase Value\":[male_total, female_total, other_total],\n",
    "    \"Avg Total Purchase per Person\":[male_avg_pp, female_avg_pp, other_avg_pp],\n",
    "})\n",
    "\n",
    "# format columns for currency\n",
    "pag_df[\"Average Purchase Price\"] = pag_df[\"Average Purchase Price\"].map(\"${:,.2f}\".format)\n",
    "pag_df[\"Total Purchase Value\"] = pag_df[\"Total Purchase Value\"].map(\"${:,.2f}\".format)\n",
    "pag_df[\"Avg Total Purchase per Person\"] = pag_df[\"Avg Total Purchase per Person\"].map(\"${:,.2f}\".format)\n",
    "\n",
    "pag_df"
   ]
  },
  {
   "cell_type": "markdown",
   "metadata": {},
   "source": [
    "## Age Demographics"
   ]
  },
  {
   "cell_type": "markdown",
   "metadata": {},
   "source": [
    "* Establish bins for ages\n",
    "\n",
    "\n",
    "* Categorize the existing players using the age bins. Hint: use pd.cut()\n",
    "\n",
    "\n",
    "* Calculate the numbers and percentages by age group\n",
    "\n",
    "\n",
    "* Create a summary data frame to hold the results\n",
    "\n",
    "\n",
    "* Optional: round the percentage column to two decimal points\n",
    "\n",
    "\n",
    "* Display Age Demographics Table\n"
   ]
  },
  {
   "cell_type": "code",
   "execution_count": null,
   "metadata": {},
   "outputs": [],
   "source": [
    "# bins for age groups\n",
    "bins = [0, 9.1, 14.1, 19.1, 24.1, 29.1, 34.1, 39.1, 100]\n",
    "# create dataframe to hold the ages from the dataframe that had duplicates removed\n",
    "age_demo = pd.DataFrame(genders_df['Age'])\n",
    "# get the counts in each age group\n",
    "age_counts = age_demo['Age'].value_counts(bins=bins, sort=False)\n",
    "# create dataframe to hold the data\n",
    "df_mapping = pd.DataFrame({\n",
    "    'Age Group': ['<10', '10-14', '15-19', '20-24', '25-29', '30-34', '35-39', '40+'],\n",
    "    \"Total Count\": age_counts,\n",
    "    \"Percentage of Players\":age_counts/(tccalc),})\n",
    "# format for percentage\n",
    "df_mapping[\"Percentage of Players\"] = df_mapping[\"Percentage of Players\"].map(\"{:,.2f}%\".format)\n",
    "\n",
    "df_mapping.style.hide_index()"
   ]
  },
  {
   "cell_type": "markdown",
   "metadata": {},
   "source": [
    "## Purchasing Analysis (Age)"
   ]
  },
  {
   "cell_type": "markdown",
   "metadata": {},
   "source": [
    "* Bin the purchase_data data frame by age\n",
    "\n",
    "\n",
    "* Run basic calculations to obtain purchase count, avg. purchase price, avg. purchase total per person etc. in the table below\n",
    "\n",
    "\n",
    "* Create a summary data frame to hold the results\n",
    "\n",
    "\n",
    "* Optional: give the displayed data cleaner formatting\n",
    "\n",
    "\n",
    "* Display the summary data frame"
   ]
  },
  {
   "cell_type": "code",
   "execution_count": null,
   "metadata": {},
   "outputs": [],
   "source": [
    "# bins for age groups\n",
    "bins = [0, 9.1, 14.1, 19.1, 24.1, 29.1, 34.1, 39.1, 100]\n",
    "# age group labels\n",
    "age_group = ['<10', '10-14', '15-19', '20-24', '25-29', '30-34', '35-39', '40+']\n",
    "# add age group column to original data set using the bins and labels defined above\n",
    "purchase_data[\"Age Group\"] = pd.cut(purchase_data['Age'], bins, labels=age_group)\n",
    "# get the counts of each age group for all of the purchases\n",
    "age_pa_count = purchase_data['Age'].value_counts(bins=bins, sort=False)\n",
    "\n",
    "# hold the data for age group\n",
    "u10 = purchase_data.loc[purchase_data[\"Age Group\"] == \"<10\"]\n",
    "# get the count of the age group from previous dataframe\n",
    "u10o = df_mapping.loc[df_mapping[\"Age Group\"] == \"<10\"]\n",
    "# get the average purchase price\n",
    "u10avg = u10['Price'].mean()\n",
    "# get the total of purchases made\n",
    "u10sum = u10['Price'].sum()\n",
    "# calculate the average per person\n",
    "u10pavg = u10sum / int(u10o['Total Count'])\n",
    "#\n",
    "# comments above apply to each of the age groups below\n",
    "#\n",
    "et = purchase_data.loc[purchase_data[\"Age Group\"] == \"10-14\"]\n",
    "eto = df_mapping.loc[df_mapping[\"Age Group\"] == \"10-14\"]\n",
    "etavg = et['Price'].mean()\n",
    "etsum = et['Price'].sum()\n",
    "etpavg = etsum / int(eto['Total Count'])\n",
    "\n",
    "lt = purchase_data.loc[purchase_data[\"Age Group\"] == \"15-19\"]\n",
    "lto = df_mapping.loc[df_mapping[\"Age Group\"] == \"15-19\"]\n",
    "ltavg = lt['Price'].mean()\n",
    "ltsum = lt['Price'].sum()\n",
    "ltpavg = ltsum / int(lto['Total Count'])\n",
    "\n",
    "etw = purchase_data.loc[purchase_data[\"Age Group\"] == \"20-24\"]\n",
    "etwo = df_mapping.loc[df_mapping[\"Age Group\"] == \"20-24\"]\n",
    "etwavg = etw['Price'].mean()\n",
    "etwsum = etw['Price'].sum()\n",
    "etwpavg = etwsum / int(etwo['Total Count'])\n",
    "\n",
    "ltw = purchase_data.loc[purchase_data[\"Age Group\"] == \"25-29\"]\n",
    "ltwo = df_mapping.loc[df_mapping[\"Age Group\"] == \"25-29\"]\n",
    "ltwavg = ltw['Price'].mean()\n",
    "ltwsum = ltw['Price'].sum()\n",
    "ltwpavg = ltwsum / int(ltwo['Total Count'])\n",
    "\n",
    "eth = purchase_data.loc[purchase_data[\"Age Group\"] == \"30-34\"]\n",
    "etho = df_mapping.loc[df_mapping[\"Age Group\"] == \"30-34\"]\n",
    "ethavg = eth['Price'].mean()\n",
    "ethsum = eth['Price'].sum()\n",
    "ethpavg = ethsum / int(etho['Total Count'])\n",
    "\n",
    "lth = purchase_data.loc[purchase_data[\"Age Group\"] == \"35-39\"]\n",
    "ltho = df_mapping.loc[df_mapping[\"Age Group\"] == \"35-39\"]\n",
    "lthavg = lth['Price'].mean()\n",
    "lthsum = lth['Price'].sum()\n",
    "lthpavg = lthsum / int(ltho['Total Count'])\n",
    "\n",
    "p40 = purchase_data.loc[purchase_data[\"Age Group\"] == \"40+\"]\n",
    "p40o = df_mapping.loc[df_mapping[\"Age Group\"] == \"40+\"]\n",
    "p40avg = p40['Price'].mean()\n",
    "p40sum = p40['Price'].sum()\n",
    "p40pavg = p40sum / int(p40o['Total Count'])\n",
    "\n",
    "# create dataframe to hold the data\n",
    "pa_age = pd.DataFrame({\n",
    "                    'Age Ranges': ['<10', '10-14', '15-19', '20-24', '25-29', '30-34', '35-39', '40+'],\n",
    "                    'Purchase Counts': age_pa_count,\n",
    "                    'Average Purchase Price': [u10avg, etavg, ltavg, etwavg, ltwavg, ethavg, lthavg, p40avg],\n",
    "                    'Total Purchase Value': [u10sum, etsum, ltsum, etwsum, ltwsum, ethsum, lthsum, p40sum],\n",
    "                    'Avg Total Purchase per Person': [u10pavg, etpavg, ltpavg, etwpavg, ltwpavg, ethpavg, lthpavg, p40pavg]\n",
    "    })\n",
    "\n",
    "# format columns for currency\n",
    "pa_age['Average Purchase Price'] = pa_age['Average Purchase Price'].map(\"${:,.2f}\".format)\n",
    "pa_age['Total Purchase Value'] = pa_age['Total Purchase Value'].map(\"${:,.2f}\".format)\n",
    "pa_age['Avg Total Purchase per Person'] = pa_age['Avg Total Purchase per Person'].map(\"${:,.2f}\".format)\n",
    "\n",
    "pa_age.style.hide_index()"
   ]
  },
  {
   "cell_type": "markdown",
   "metadata": {},
   "source": [
    "## Top Spenders"
   ]
  },
  {
   "cell_type": "markdown",
   "metadata": {},
   "source": [
    "* Run basic calculations to obtain the results in the table below\n",
    "\n",
    "\n",
    "* Create a summary data frame to hold the results\n",
    "\n",
    "\n",
    "* Sort the total purchase value column in descending order\n",
    "\n",
    "\n",
    "* Optional: give the displayed data cleaner formatting\n",
    "\n",
    "\n",
    "* Display a preview of the summary data frame\n",
    "\n"
   ]
  },
  {
   "cell_type": "code",
   "execution_count": null,
   "metadata": {},
   "outputs": [],
   "source": [
    "# create dataframe to hold SN and Price\n",
    "ts_df = purchase_data[['SN', 'Price']]\n",
    "# group the SNs with multiple values\n",
    "sngrouped = ts_df.groupby(['SN'])\n",
    "# get the counts of each SN\n",
    "sncount = ts_df['SN'].value_counts()\n",
    "# add all purchases made by each\n",
    "snsum = sngrouped.sum()\n",
    "\n",
    "# create dataframe to hold the data\n",
    "tsd = pd.DataFrame({'Purchase Count': sncount})\n",
    "tsd['Total Purchase Value'] = snsum\n",
    "tsd['Average Purchase Price'] = tsd['Total Purchase Value'] / tsd['Purchase Count']\n",
    "tsd['SN'] = purchase_data['SN']\n",
    "\n",
    "# set SN column as the index\n",
    "tsd['SN'] = tsd.index\n",
    "\n",
    "# order our columns\n",
    "tsd = tsd[['SN', 'Purchase Count', 'Average Purchase Price', 'Total Purchase Value']]\n",
    "\n",
    "# sort the dataframe by total purchase value\n",
    "sorted_tsd = tsd.sort_values(['Total Purchase Value'], ascending=False)\n",
    "\n",
    "# format for currency\n",
    "sorted_tsd['Total Purchase Value'] = tsd['Total Purchase Value'].map(\"${:,.2f}\".format)\n",
    "sorted_tsd['Average Purchase Price'] = tsd['Average Purchase Price'].map(\"${:,.2f}\".format)\n",
    "\n",
    "sorted_tsd.head().style.hide_index()"
   ]
  },
  {
   "cell_type": "markdown",
   "metadata": {},
   "source": [
    "## Most Popular Items\n",
    "\n",
    "* Retrieve the Item ID, Item Name, and Item Price columns\n",
    "\n",
    "\n",
    "* Group by Item ID and Item Name. Perform calculations to obtain purchase count, average item price, and total purchase value\n",
    "\n",
    "\n",
    "* Create a summary data frame to hold the results\n",
    "\n",
    "\n",
    "* Sort the purchase count column in descending order\n",
    "\n",
    "\n",
    "* Optional: give the displayed data cleaner formatting\n",
    "\n",
    "\n",
    "* Display a preview of the summary data frame"
   ]
  },
  {
   "cell_type": "code",
   "execution_count": null,
   "metadata": {},
   "outputs": [],
   "source": [
    "# get the data for item id, name and price\n",
    "mpi = purchase_data[['Item ID', 'Item Name', 'Price']]\n",
    "# drop duplicate values\n",
    "mpi_df = mpi.drop_duplicates(subset=\"Item ID\", keep='first', inplace=False)\n",
    "\n",
    "mpi_uni = mpi_df['Item Name'].unique()\n",
    "mpi_id = mpi_df['Item ID'].unique()\n",
    "\n",
    "# group the items together and get their total purchase value\n",
    "count_sum = mpi.groupby(['Item ID','Item Name'])['Price'].sum()\n",
    "\n",
    "# create dataframe to hold the counts of each item\n",
    "mpi_count = pd.DataFrame({'Purchase Count': mpi['Item Name'].value_counts()})\n",
    "# get the item names from the previous dataframe index\n",
    "mpi_count['Item Name'] = mpi_count.index\n",
    "\n",
    "# merge the dataframe with the count\n",
    "mpim = pd.merge(mpi_df, mpi_count, on='Item Name')\n",
    "# merge the dataframe to add the sum of each item\n",
    "mpim = pd.merge(mpim, count_sum, on='Item Name')\n",
    "\n",
    "# sort the purchase count column\n",
    "# sorted_mpi = mpim.sort_values(['Purchase Count'], ascending=False)\n",
    "\n",
    "# rename column\n",
    "mpim.rename(columns = {'Price_y': 'Total Purchase Value'}, inplace=True)\n",
    "# get the average price of each item\n",
    "mpim['Item Price'] = mpim['Total Purchase Value'] / mpim['Purchase Count']\n",
    "# sort columns\n",
    "mpim = mpim[['Item ID', 'Item Name', 'Purchase Count', 'Item Price', 'Total Purchase Value']]\n",
    "# sort the purchase count column\n",
    "sorted_mpi = mpim.sort_values(['Purchase Count'], ascending=False)\n",
    "\n",
    "# format for currency\n",
    "sorted_mpi['Total Purchase Value'] = sorted_mpi['Total Purchase Value'].map(\"${:,.2f}\".format)\n",
    "sorted_mpi['Item Price'] = sorted_mpi['Item Price'].map(\"${:,.2f}\".format)\n",
    "\n",
    "sorted_mpi.head(11).style.hide_index()"
   ]
  },
  {
   "cell_type": "markdown",
   "metadata": {},
   "source": [
    "## Most Profitable Items"
   ]
  },
  {
   "cell_type": "markdown",
   "metadata": {},
   "source": [
    "* Sort the above table by total purchase value in descending order\n",
    "\n",
    "\n",
    "* Optional: give the displayed data cleaner formatting\n",
    "\n",
    "\n",
    "* Display a preview of the data frame\n",
    "\n"
   ]
  },
  {
   "cell_type": "code",
   "execution_count": null,
   "metadata": {
    "scrolled": true
   },
   "outputs": [],
   "source": [
    "# create new dataframe that sorts by total purchase value\n",
    "sorted_tpv = mpim.sort_values(['Total Purchase Value'], ascending=False)\n",
    "# rename column\n",
    "sorted_tpv.rename(columns = {'Price': 'Item Price'}, inplace=True)\n",
    "\n",
    "# format for currency\n",
    "sorted_tpv['Total Purchase Value'] = sorted_tpv['Total Purchase Value'].map(\"${:,.2f}\".format)\n",
    "sorted_tpv['Item Price'] = sorted_tpv['Item Price'].map(\"${:,.2f}\".format)\n",
    "\n",
    "sorted_tpv.head(10).style.hide_index()"
   ]
  },
  {
   "cell_type": "code",
   "execution_count": null,
   "metadata": {},
   "outputs": [],
   "source": []
  }
 ],
 "metadata": {
  "anaconda-cloud": {},
  "kernel_info": {
   "name": "python3"
  },
  "kernelspec": {
   "name": "python3",
   "display_name": "Python 3.8.8 64-bit ('base': conda)"
  },
  "language_info": {
   "codemirror_mode": {
    "name": "ipython",
    "version": 3
   },
   "file_extension": ".py",
   "mimetype": "text/x-python",
   "name": "python",
   "nbconvert_exporter": "python",
   "pygments_lexer": "ipython3",
   "version": "3.8.8"
  },
  "latex_envs": {
   "LaTeX_envs_menu_present": true,
   "autoclose": false,
   "autocomplete": true,
   "bibliofile": "biblio.bib",
   "cite_by": "apalike",
   "current_citInitial": 1,
   "eqLabelWithNumbers": true,
   "eqNumInitial": 1,
   "hotkeys": {
    "equation": "Ctrl-E",
    "itemize": "Ctrl-I"
   },
   "labels_anchors": false,
   "latex_user_defs": false,
   "report_style_numbering": false,
   "user_envs_cfg": false
  },
  "nteract": {
   "version": "0.2.0"
  },
  "interpreter": {
   "hash": "323b2f49c5ec38649e4450b9e0286d094e9a4c73e60f6ed90c22615272fe4a24"
  }
 },
 "nbformat": 4,
 "nbformat_minor": 2
}